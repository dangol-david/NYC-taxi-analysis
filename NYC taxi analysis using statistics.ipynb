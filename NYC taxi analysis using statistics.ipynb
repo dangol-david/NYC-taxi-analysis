{
 "cells": [
  {
   "cell_type": "markdown",
   "id": "8399da9b-2039-4b72-9c74-49cfeae82858",
   "metadata": {},
   "source": [
    "## Optimizing Revenue and Driver Retention in the Taxi Industry: A Data-Driven Analysis of Payment Methods, Fare Pricing, and Revenue Forecasting¶"
   ]
  },
  {
   "cell_type": "markdown",
   "id": "21b7540b-9399-44d7-920d-1007577448d7",
   "metadata": {},
   "source": [
    "### Introduction¶\r\n",
    "In the highly competitive rental taxi sector, optimizing revenue and ensuring driver satisfaction are crucial for sustained growth and long-term success. With the increasing reliance on data-driven decision-making, understanding the factors influencing fare pricing and revenue generation has become essential. This research aims to uncover actionable insights by analyzing the impact of different payment methods on fare amounts, and developing predictive models to estimate fare prices and driver tips."
   ]
  },
  {
   "cell_type": "markdown",
   "id": "03ee6c8b-e931-4616-9bb8-659dcd01e5a0",
   "metadata": {},
   "source": [
    "### Objective¶\r\n",
    "By leveraging data-driven insights and predictive analytics, this research seeks to provide a comprehensive understanding of revenue dynamics in the taxi industry. The findings will guide strategic decisions to maximize profits, improve driver satisfaction, and ensure a competitive edge in the rapidly evolving market.\r\n",
    "\r\n",
    "Payment Methods and Fare Pricing: Analyze if different payment methods (e.g., cash, credit/debit card) affect fare amounts. This includes conducting a A/B testing, using python hypothesis testing and descriptive statistics to extract useful information to generate more cash for drivers. In particular, to validate any observed differences in fare pricing of card versus cash payment.\r\n",
    "\r\n",
    "Predictive Modeling: Develop models to predict fare prices and driver tips, aiding in profit estimation and driver retention. Additionaly, suggest tip amount to customers by predicting tips based on trip distance and duration."
   ]
  },
  {
   "cell_type": "code",
   "execution_count": 1,
   "id": "e491e825-01c8-4010-9bfb-a3e480b7a04b",
   "metadata": {},
   "outputs": [],
   "source": [
    "import numpy as np\n",
    "import pandas as pd\n",
    "import matplotlib.pyplot as plt\n",
    "import seaborn as sns\n",
    "import scipy.stats as st\n",
    "import warnings"
   ]
  },
  {
   "cell_type": "code",
   "execution_count": 2,
   "id": "c32b8617-bb8f-4672-b797-1869788b8fed",
   "metadata": {},
   "outputs": [],
   "source": [
    "warnings.filterwarnings('ignore')"
   ]
  },
  {
   "cell_type": "markdown",
   "id": "e3de3599-7ad3-4840-8c6e-4fd25c212a48",
   "metadata": {},
   "source": [
    "###  Loading dataset"
   ]
  },
  {
   "cell_type": "code",
   "execution_count": 5,
   "id": "2ac1ea61-b22f-4115-a0c7-bff59030c237",
   "metadata": {},
   "outputs": [],
   "source": [
    "df = pd.read_csv(r'C:\\Users\\user\\Downloads/2020_Yellow_Taxi_Trip_Data.csv')"
   ]
  },
  {
   "cell_type": "code",
   "execution_count": 7,
   "id": "5266e366-5af4-43f8-96fe-45df9c05d2f4",
   "metadata": {},
   "outputs": [
    {
     "data": {
      "text/html": [
       "<div>\n",
       "<style scoped>\n",
       "    .dataframe tbody tr th:only-of-type {\n",
       "        vertical-align: middle;\n",
       "    }\n",
       "\n",
       "    .dataframe tbody tr th {\n",
       "        vertical-align: top;\n",
       "    }\n",
       "\n",
       "    .dataframe thead th {\n",
       "        text-align: right;\n",
       "    }\n",
       "</style>\n",
       "<table border=\"1\" class=\"dataframe\">\n",
       "  <thead>\n",
       "    <tr style=\"text-align: right;\">\n",
       "      <th></th>\n",
       "      <th>VendorID</th>\n",
       "      <th>tpep_pickup_datetime</th>\n",
       "      <th>tpep_dropoff_datetime</th>\n",
       "      <th>passenger_count</th>\n",
       "      <th>trip_distance</th>\n",
       "      <th>RatecodeID</th>\n",
       "      <th>store_and_fwd_flag</th>\n",
       "      <th>PULocationID</th>\n",
       "      <th>DOLocationID</th>\n",
       "      <th>payment_type</th>\n",
       "      <th>fare_amount</th>\n",
       "      <th>extra</th>\n",
       "      <th>mta_tax</th>\n",
       "      <th>tip_amount</th>\n",
       "      <th>tolls_amount</th>\n",
       "      <th>improvement_surcharge</th>\n",
       "      <th>total_amount</th>\n",
       "      <th>congestion_surcharge</th>\n",
       "    </tr>\n",
       "  </thead>\n",
       "  <tbody>\n",
       "    <tr>\n",
       "      <th>0</th>\n",
       "      <td>1.0</td>\n",
       "      <td>01/01/2020 12:28:15 AM</td>\n",
       "      <td>01/01/2020 12:33:03 AM</td>\n",
       "      <td>1.0</td>\n",
       "      <td>1.2</td>\n",
       "      <td>1.0</td>\n",
       "      <td>N</td>\n",
       "      <td>238</td>\n",
       "      <td>239</td>\n",
       "      <td>1.0</td>\n",
       "      <td>6.0</td>\n",
       "      <td>3.0</td>\n",
       "      <td>0.5</td>\n",
       "      <td>1.47</td>\n",
       "      <td>0.0</td>\n",
       "      <td>0.3</td>\n",
       "      <td>11.27</td>\n",
       "      <td>2.5</td>\n",
       "    </tr>\n",
       "    <tr>\n",
       "      <th>1</th>\n",
       "      <td>1.0</td>\n",
       "      <td>01/01/2020 12:35:39 AM</td>\n",
       "      <td>01/01/2020 12:43:04 AM</td>\n",
       "      <td>1.0</td>\n",
       "      <td>1.2</td>\n",
       "      <td>1.0</td>\n",
       "      <td>N</td>\n",
       "      <td>239</td>\n",
       "      <td>238</td>\n",
       "      <td>1.0</td>\n",
       "      <td>7.0</td>\n",
       "      <td>3.0</td>\n",
       "      <td>0.5</td>\n",
       "      <td>1.50</td>\n",
       "      <td>0.0</td>\n",
       "      <td>0.3</td>\n",
       "      <td>12.30</td>\n",
       "      <td>2.5</td>\n",
       "    </tr>\n",
       "    <tr>\n",
       "      <th>2</th>\n",
       "      <td>1.0</td>\n",
       "      <td>01/01/2020 12:47:41 AM</td>\n",
       "      <td>01/01/2020 12:53:52 AM</td>\n",
       "      <td>1.0</td>\n",
       "      <td>0.6</td>\n",
       "      <td>1.0</td>\n",
       "      <td>N</td>\n",
       "      <td>238</td>\n",
       "      <td>238</td>\n",
       "      <td>1.0</td>\n",
       "      <td>6.0</td>\n",
       "      <td>3.0</td>\n",
       "      <td>0.5</td>\n",
       "      <td>1.00</td>\n",
       "      <td>0.0</td>\n",
       "      <td>0.3</td>\n",
       "      <td>10.80</td>\n",
       "      <td>2.5</td>\n",
       "    </tr>\n",
       "    <tr>\n",
       "      <th>3</th>\n",
       "      <td>1.0</td>\n",
       "      <td>01/01/2020 12:55:23 AM</td>\n",
       "      <td>01/01/2020 01:00:14 AM</td>\n",
       "      <td>1.0</td>\n",
       "      <td>0.8</td>\n",
       "      <td>1.0</td>\n",
       "      <td>N</td>\n",
       "      <td>238</td>\n",
       "      <td>151</td>\n",
       "      <td>1.0</td>\n",
       "      <td>5.5</td>\n",
       "      <td>0.5</td>\n",
       "      <td>0.5</td>\n",
       "      <td>1.36</td>\n",
       "      <td>0.0</td>\n",
       "      <td>0.3</td>\n",
       "      <td>8.16</td>\n",
       "      <td>0.0</td>\n",
       "    </tr>\n",
       "    <tr>\n",
       "      <th>4</th>\n",
       "      <td>2.0</td>\n",
       "      <td>01/01/2020 12:01:58 AM</td>\n",
       "      <td>01/01/2020 12:04:16 AM</td>\n",
       "      <td>1.0</td>\n",
       "      <td>0.0</td>\n",
       "      <td>1.0</td>\n",
       "      <td>N</td>\n",
       "      <td>193</td>\n",
       "      <td>193</td>\n",
       "      <td>2.0</td>\n",
       "      <td>3.5</td>\n",
       "      <td>0.5</td>\n",
       "      <td>0.5</td>\n",
       "      <td>0.00</td>\n",
       "      <td>0.0</td>\n",
       "      <td>0.3</td>\n",
       "      <td>4.80</td>\n",
       "      <td>0.0</td>\n",
       "    </tr>\n",
       "  </tbody>\n",
       "</table>\n",
       "</div>"
      ],
      "text/plain": [
       "   VendorID    tpep_pickup_datetime   tpep_dropoff_datetime  passenger_count  \\\n",
       "0       1.0  01/01/2020 12:28:15 AM  01/01/2020 12:33:03 AM              1.0   \n",
       "1       1.0  01/01/2020 12:35:39 AM  01/01/2020 12:43:04 AM              1.0   \n",
       "2       1.0  01/01/2020 12:47:41 AM  01/01/2020 12:53:52 AM              1.0   \n",
       "3       1.0  01/01/2020 12:55:23 AM  01/01/2020 01:00:14 AM              1.0   \n",
       "4       2.0  01/01/2020 12:01:58 AM  01/01/2020 12:04:16 AM              1.0   \n",
       "\n",
       "   trip_distance  RatecodeID store_and_fwd_flag  PULocationID  DOLocationID  \\\n",
       "0            1.2         1.0                  N           238           239   \n",
       "1            1.2         1.0                  N           239           238   \n",
       "2            0.6         1.0                  N           238           238   \n",
       "3            0.8         1.0                  N           238           151   \n",
       "4            0.0         1.0                  N           193           193   \n",
       "\n",
       "   payment_type  fare_amount  extra  mta_tax  tip_amount  tolls_amount  \\\n",
       "0           1.0          6.0    3.0      0.5        1.47           0.0   \n",
       "1           1.0          7.0    3.0      0.5        1.50           0.0   \n",
       "2           1.0          6.0    3.0      0.5        1.00           0.0   \n",
       "3           1.0          5.5    0.5      0.5        1.36           0.0   \n",
       "4           2.0          3.5    0.5      0.5        0.00           0.0   \n",
       "\n",
       "   improvement_surcharge  total_amount  congestion_surcharge  \n",
       "0                    0.3         11.27                   2.5  \n",
       "1                    0.3         12.30                   2.5  \n",
       "2                    0.3         10.80                   2.5  \n",
       "3                    0.3          8.16                   0.0  \n",
       "4                    0.3          4.80                   0.0  "
      ]
     },
     "execution_count": 7,
     "metadata": {},
     "output_type": "execute_result"
    }
   ],
   "source": [
    "df.head(5)"
   ]
  },
  {
   "cell_type": "markdown",
   "id": "2790727f-72e6-46ef-8401-a46b7e653da6",
   "metadata": {},
   "source": [
    "### Exploratory Data Analysis"
   ]
  },
  {
   "cell_type": "code",
   "execution_count": 9,
   "id": "66f663cb-bceb-48c4-b73f-295848644375",
   "metadata": {},
   "outputs": [
    {
     "data": {
      "text/plain": [
       "(24648499, 18)"
      ]
     },
     "execution_count": 9,
     "metadata": {},
     "output_type": "execute_result"
    }
   ],
   "source": [
    "df.shape"
   ]
  },
  {
   "cell_type": "code",
   "execution_count": 10,
   "id": "b1e2fdca-5232-4c70-908a-19e31a115217",
   "metadata": {},
   "outputs": [
    {
     "name": "stdout",
     "output_type": "stream",
     "text": [
      "<class 'pandas.core.frame.DataFrame'>\n",
      "RangeIndex: 24648499 entries, 0 to 24648498\n",
      "Data columns (total 18 columns):\n",
      " #   Column                 Dtype  \n",
      "---  ------                 -----  \n",
      " 0   VendorID               float64\n",
      " 1   tpep_pickup_datetime   object \n",
      " 2   tpep_dropoff_datetime  object \n",
      " 3   passenger_count        float64\n",
      " 4   trip_distance          float64\n",
      " 5   RatecodeID             float64\n",
      " 6   store_and_fwd_flag     object \n",
      " 7   PULocationID           int64  \n",
      " 8   DOLocationID           int64  \n",
      " 9   payment_type           float64\n",
      " 10  fare_amount            float64\n",
      " 11  extra                  float64\n",
      " 12  mta_tax                float64\n",
      " 13  tip_amount             float64\n",
      " 14  tolls_amount           float64\n",
      " 15  improvement_surcharge  float64\n",
      " 16  total_amount           float64\n",
      " 17  congestion_surcharge   float64\n",
      "dtypes: float64(13), int64(2), object(3)\n",
      "memory usage: 3.3+ GB\n"
     ]
    }
   ],
   "source": [
    "df.info()"
   ]
  },
  {
   "cell_type": "code",
   "execution_count": 11,
   "id": "29768d45-156d-42b5-a481-ce2234f0c19b",
   "metadata": {},
   "outputs": [],
   "source": [
    "df['tpep_pickup_datetime'] = pd.to_datetime(df['tpep_pickup_datetime'])\n",
    "df['tpep_dropoff_datetime'] = pd.to_datetime(df['tpep_dropoff_datetime'])"
   ]
  },
  {
   "cell_type": "code",
   "execution_count": 14,
   "id": "60b5f160-a30a-41b9-a841-bca17d9cc322",
   "metadata": {},
   "outputs": [],
   "source": [
    "df['trip_timings'] = df['tpep_dropoff_datetime'] - df['tpep_pickup_datetime']\n",
    "df['trip_duration'] = df['trip_timings'].dt.total_seconds()/60"
   ]
  },
  {
   "cell_type": "code",
   "execution_count": 16,
   "id": "099ce110-d632-4386-ace9-d9b36df1c99a",
   "metadata": {},
   "outputs": [
    {
     "data": {
      "text/plain": [
       "Index(['VendorID', 'tpep_pickup_datetime', 'tpep_dropoff_datetime',\n",
       "       'passenger_count', 'trip_distance', 'RatecodeID', 'store_and_fwd_flag',\n",
       "       'PULocationID', 'DOLocationID', 'payment_type', 'fare_amount', 'extra',\n",
       "       'mta_tax', 'tip_amount', 'tolls_amount', 'improvement_surcharge',\n",
       "       'total_amount', 'congestion_surcharge', 'trip_timings',\n",
       "       'trip_duration'],\n",
       "      dtype='object')"
      ]
     },
     "execution_count": 16,
     "metadata": {},
     "output_type": "execute_result"
    }
   ],
   "source": [
    "df.columns"
   ]
  },
  {
   "cell_type": "code",
   "execution_count": null,
   "id": "9122bc36-dcfa-4288-9d8b-7e08c7768161",
   "metadata": {},
   "outputs": [],
   "source": []
  },
  {
   "cell_type": "code",
   "execution_count": null,
   "id": "6617bfbb-0c3a-4aeb-bf7c-69fd628db6b2",
   "metadata": {},
   "outputs": [],
   "source": []
  },
  {
   "cell_type": "markdown",
   "id": "5431124b-1856-4800-bf00-2f89f216f99d",
   "metadata": {},
   "source": [
    "### Payment Methods and Fare Pricing:\r\n",
    "Since our objective revolves around payment type, fare amount and any other factor influencing the fare amount ,we are filtering only the required columns for statistical analysis."
   ]
  },
  {
   "cell_type": "code",
   "execution_count": 18,
   "id": "219561c4-a43f-47d2-a1fc-0f3300980a8a",
   "metadata": {},
   "outputs": [
    {
     "data": {
      "text/html": [
       "<div>\n",
       "<style scoped>\n",
       "    .dataframe tbody tr th:only-of-type {\n",
       "        vertical-align: middle;\n",
       "    }\n",
       "\n",
       "    .dataframe tbody tr th {\n",
       "        vertical-align: top;\n",
       "    }\n",
       "\n",
       "    .dataframe thead th {\n",
       "        text-align: right;\n",
       "    }\n",
       "</style>\n",
       "<table border=\"1\" class=\"dataframe\">\n",
       "  <thead>\n",
       "    <tr style=\"text-align: right;\">\n",
       "      <th></th>\n",
       "      <th>passenger_count</th>\n",
       "      <th>trip_distance</th>\n",
       "      <th>payment_type</th>\n",
       "      <th>fare_amount</th>\n",
       "      <th>trip_duration</th>\n",
       "    </tr>\n",
       "  </thead>\n",
       "  <tbody>\n",
       "    <tr>\n",
       "      <th>0</th>\n",
       "      <td>1.0</td>\n",
       "      <td>1.2</td>\n",
       "      <td>1.0</td>\n",
       "      <td>6.0</td>\n",
       "      <td>4.800000</td>\n",
       "    </tr>\n",
       "    <tr>\n",
       "      <th>1</th>\n",
       "      <td>1.0</td>\n",
       "      <td>1.2</td>\n",
       "      <td>1.0</td>\n",
       "      <td>7.0</td>\n",
       "      <td>7.416667</td>\n",
       "    </tr>\n",
       "    <tr>\n",
       "      <th>2</th>\n",
       "      <td>1.0</td>\n",
       "      <td>0.6</td>\n",
       "      <td>1.0</td>\n",
       "      <td>6.0</td>\n",
       "      <td>6.183333</td>\n",
       "    </tr>\n",
       "    <tr>\n",
       "      <th>3</th>\n",
       "      <td>1.0</td>\n",
       "      <td>0.8</td>\n",
       "      <td>1.0</td>\n",
       "      <td>5.5</td>\n",
       "      <td>4.850000</td>\n",
       "    </tr>\n",
       "    <tr>\n",
       "      <th>4</th>\n",
       "      <td>1.0</td>\n",
       "      <td>0.0</td>\n",
       "      <td>2.0</td>\n",
       "      <td>3.5</td>\n",
       "      <td>2.300000</td>\n",
       "    </tr>\n",
       "  </tbody>\n",
       "</table>\n",
       "</div>"
      ],
      "text/plain": [
       "   passenger_count  trip_distance  payment_type  fare_amount  trip_duration\n",
       "0              1.0            1.2           1.0          6.0       4.800000\n",
       "1              1.0            1.2           1.0          7.0       7.416667\n",
       "2              1.0            0.6           1.0          6.0       6.183333\n",
       "3              1.0            0.8           1.0          5.5       4.850000\n",
       "4              1.0            0.0           2.0          3.5       2.300000"
      ]
     },
     "execution_count": 18,
     "metadata": {},
     "output_type": "execute_result"
    }
   ],
   "source": [
    "df = df[['passenger_count', 'trip_distance','payment_type','fare_amount','trip_duration']]\n",
    "df.head()"
   ]
  },
  {
   "cell_type": "code",
   "execution_count": 19,
   "id": "dbf09ab7-9cea-403a-bee8-e1dc80f7b25c",
   "metadata": {},
   "outputs": [
    {
     "data": {
      "text/plain": [
       "passenger_count    809568\n",
       "trip_distance           0\n",
       "payment_type       809568\n",
       "fare_amount             0\n",
       "trip_duration           0\n",
       "dtype: int64"
      ]
     },
     "execution_count": 19,
     "metadata": {},
     "output_type": "execute_result"
    }
   ],
   "source": [
    "#checking for missing values\n",
    "df.isnull().sum()"
   ]
  },
  {
   "cell_type": "code",
   "execution_count": 20,
   "id": "b6c71b2f-613f-4aee-9abf-8a25bcbc9c98",
   "metadata": {},
   "outputs": [
    {
     "name": "stdout",
     "output_type": "stream",
     "text": [
      "Missing data %:\n"
     ]
    },
    {
     "data": {
      "text/plain": [
       "passenger_count    3.28\n",
       "trip_distance      0.00\n",
       "payment_type       3.28\n",
       "fare_amount        0.00\n",
       "trip_duration      0.00\n",
       "dtype: float64"
      ]
     },
     "execution_count": 20,
     "metadata": {},
     "output_type": "execute_result"
    }
   ],
   "source": [
    "print('Missing data %:')\n",
    "round(df.isnull().sum()*100/df.shape[0],2)"
   ]
  },
  {
   "cell_type": "code",
   "execution_count": 21,
   "id": "f91cc0e6-5aa6-4545-bfe4-7b079dce9cfd",
   "metadata": {},
   "outputs": [],
   "source": [
    "df.dropna(inplace=True)\n"
   ]
  },
  {
   "cell_type": "code",
   "execution_count": 22,
   "id": "15386ed6-76c0-4ff0-9f00-26d3a20c8aec",
   "metadata": {},
   "outputs": [
    {
     "data": {
      "text/html": [
       "<div>\n",
       "<style scoped>\n",
       "    .dataframe tbody tr th:only-of-type {\n",
       "        vertical-align: middle;\n",
       "    }\n",
       "\n",
       "    .dataframe tbody tr th {\n",
       "        vertical-align: top;\n",
       "    }\n",
       "\n",
       "    .dataframe thead th {\n",
       "        text-align: right;\n",
       "    }\n",
       "</style>\n",
       "<table border=\"1\" class=\"dataframe\">\n",
       "  <thead>\n",
       "    <tr style=\"text-align: right;\">\n",
       "      <th></th>\n",
       "      <th>passenger_count</th>\n",
       "      <th>trip_distance</th>\n",
       "      <th>payment_type</th>\n",
       "      <th>fare_amount</th>\n",
       "      <th>trip_duration</th>\n",
       "    </tr>\n",
       "  </thead>\n",
       "  <tbody>\n",
       "    <tr>\n",
       "      <th>0</th>\n",
       "      <td>1.0</td>\n",
       "      <td>1.20</td>\n",
       "      <td>1.0</td>\n",
       "      <td>6.0</td>\n",
       "      <td>4.800000</td>\n",
       "    </tr>\n",
       "    <tr>\n",
       "      <th>1</th>\n",
       "      <td>1.0</td>\n",
       "      <td>1.20</td>\n",
       "      <td>1.0</td>\n",
       "      <td>7.0</td>\n",
       "      <td>7.416667</td>\n",
       "    </tr>\n",
       "    <tr>\n",
       "      <th>2</th>\n",
       "      <td>1.0</td>\n",
       "      <td>0.60</td>\n",
       "      <td>1.0</td>\n",
       "      <td>6.0</td>\n",
       "      <td>6.183333</td>\n",
       "    </tr>\n",
       "    <tr>\n",
       "      <th>3</th>\n",
       "      <td>1.0</td>\n",
       "      <td>0.80</td>\n",
       "      <td>1.0</td>\n",
       "      <td>5.5</td>\n",
       "      <td>4.850000</td>\n",
       "    </tr>\n",
       "    <tr>\n",
       "      <th>4</th>\n",
       "      <td>1.0</td>\n",
       "      <td>0.00</td>\n",
       "      <td>2.0</td>\n",
       "      <td>3.5</td>\n",
       "      <td>2.300000</td>\n",
       "    </tr>\n",
       "    <tr>\n",
       "      <th>...</th>\n",
       "      <td>...</td>\n",
       "      <td>...</td>\n",
       "      <td>...</td>\n",
       "      <td>...</td>\n",
       "      <td>...</td>\n",
       "    </tr>\n",
       "    <tr>\n",
       "      <th>24549234</th>\n",
       "      <td>1.0</td>\n",
       "      <td>11.30</td>\n",
       "      <td>2.0</td>\n",
       "      <td>33.0</td>\n",
       "      <td>26.050000</td>\n",
       "    </tr>\n",
       "    <tr>\n",
       "      <th>24549235</th>\n",
       "      <td>1.0</td>\n",
       "      <td>2.18</td>\n",
       "      <td>1.0</td>\n",
       "      <td>9.0</td>\n",
       "      <td>8.216667</td>\n",
       "    </tr>\n",
       "    <tr>\n",
       "      <th>24549236</th>\n",
       "      <td>1.0</td>\n",
       "      <td>2.52</td>\n",
       "      <td>1.0</td>\n",
       "      <td>9.5</td>\n",
       "      <td>8.133333</td>\n",
       "    </tr>\n",
       "    <tr>\n",
       "      <th>24549237</th>\n",
       "      <td>1.0</td>\n",
       "      <td>0.59</td>\n",
       "      <td>1.0</td>\n",
       "      <td>4.5</td>\n",
       "      <td>2.700000</td>\n",
       "    </tr>\n",
       "    <tr>\n",
       "      <th>24549238</th>\n",
       "      <td>1.0</td>\n",
       "      <td>6.06</td>\n",
       "      <td>2.0</td>\n",
       "      <td>18.5</td>\n",
       "      <td>12.866667</td>\n",
       "    </tr>\n",
       "  </tbody>\n",
       "</table>\n",
       "<p>23838931 rows × 5 columns</p>\n",
       "</div>"
      ],
      "text/plain": [
       "          passenger_count  trip_distance  payment_type  fare_amount  \\\n",
       "0                     1.0           1.20           1.0          6.0   \n",
       "1                     1.0           1.20           1.0          7.0   \n",
       "2                     1.0           0.60           1.0          6.0   \n",
       "3                     1.0           0.80           1.0          5.5   \n",
       "4                     1.0           0.00           2.0          3.5   \n",
       "...                   ...            ...           ...          ...   \n",
       "24549234              1.0          11.30           2.0         33.0   \n",
       "24549235              1.0           2.18           1.0          9.0   \n",
       "24549236              1.0           2.52           1.0          9.5   \n",
       "24549237              1.0           0.59           1.0          4.5   \n",
       "24549238              1.0           6.06           2.0         18.5   \n",
       "\n",
       "          trip_duration  \n",
       "0              4.800000  \n",
       "1              7.416667  \n",
       "2              6.183333  \n",
       "3              4.850000  \n",
       "4              2.300000  \n",
       "...                 ...  \n",
       "24549234      26.050000  \n",
       "24549235       8.216667  \n",
       "24549236       8.133333  \n",
       "24549237       2.700000  \n",
       "24549238      12.866667  \n",
       "\n",
       "[23838931 rows x 5 columns]"
      ]
     },
     "execution_count": 22,
     "metadata": {},
     "output_type": "execute_result"
    }
   ],
   "source": [
    "df"
   ]
  },
  {
   "cell_type": "code",
   "execution_count": 23,
   "id": "d0cc3fa2-d9de-4f71-8e02-2fa00396e791",
   "metadata": {},
   "outputs": [
    {
     "name": "stdout",
     "output_type": "stream",
     "text": [
      "<class 'pandas.core.frame.DataFrame'>\n",
      "Index: 23838931 entries, 0 to 24549238\n",
      "Data columns (total 5 columns):\n",
      " #   Column           Dtype  \n",
      "---  ------           -----  \n",
      " 0   passenger_count  float64\n",
      " 1   trip_distance    float64\n",
      " 2   payment_type     float64\n",
      " 3   fare_amount      float64\n",
      " 4   trip_duration    float64\n",
      "dtypes: float64(5)\n",
      "memory usage: 1.1 GB\n"
     ]
    }
   ],
   "source": [
    "df.info()"
   ]
  },
  {
   "cell_type": "code",
   "execution_count": 24,
   "id": "d4efccc3-e47b-4776-8aa6-65f3da2584e0",
   "metadata": {},
   "outputs": [],
   "source": [
    "df['passenger_count'] = df['passenger_count'].astype('int64')\n",
    "df['payment_type'] = df['payment_type'].astype('int64')"
   ]
  },
  {
   "cell_type": "code",
   "execution_count": 25,
   "id": "efc4f3fd-38f9-4394-9d84-6e1f2a8132c2",
   "metadata": {},
   "outputs": [
    {
     "data": {
      "text/html": [
       "<div>\n",
       "<style scoped>\n",
       "    .dataframe tbody tr th:only-of-type {\n",
       "        vertical-align: middle;\n",
       "    }\n",
       "\n",
       "    .dataframe tbody tr th {\n",
       "        vertical-align: top;\n",
       "    }\n",
       "\n",
       "    .dataframe thead th {\n",
       "        text-align: right;\n",
       "    }\n",
       "</style>\n",
       "<table border=\"1\" class=\"dataframe\">\n",
       "  <thead>\n",
       "    <tr style=\"text-align: right;\">\n",
       "      <th></th>\n",
       "      <th>passenger_count</th>\n",
       "      <th>trip_distance</th>\n",
       "      <th>payment_type</th>\n",
       "      <th>fare_amount</th>\n",
       "      <th>trip_duration</th>\n",
       "    </tr>\n",
       "  </thead>\n",
       "  <tbody>\n",
       "    <tr>\n",
       "      <th>2064</th>\n",
       "      <td>1</td>\n",
       "      <td>0.00</td>\n",
       "      <td>2</td>\n",
       "      <td>7.0</td>\n",
       "      <td>0.000000</td>\n",
       "    </tr>\n",
       "    <tr>\n",
       "      <th>2451</th>\n",
       "      <td>1</td>\n",
       "      <td>0.00</td>\n",
       "      <td>1</td>\n",
       "      <td>52.0</td>\n",
       "      <td>0.200000</td>\n",
       "    </tr>\n",
       "    <tr>\n",
       "      <th>2456</th>\n",
       "      <td>2</td>\n",
       "      <td>1.70</td>\n",
       "      <td>1</td>\n",
       "      <td>9.5</td>\n",
       "      <td>13.066667</td>\n",
       "    </tr>\n",
       "    <tr>\n",
       "      <th>2476</th>\n",
       "      <td>1</td>\n",
       "      <td>0.40</td>\n",
       "      <td>1</td>\n",
       "      <td>4.0</td>\n",
       "      <td>3.083333</td>\n",
       "    </tr>\n",
       "    <tr>\n",
       "      <th>3358</th>\n",
       "      <td>1</td>\n",
       "      <td>1.20</td>\n",
       "      <td>1</td>\n",
       "      <td>6.0</td>\n",
       "      <td>5.350000</td>\n",
       "    </tr>\n",
       "    <tr>\n",
       "      <th>...</th>\n",
       "      <td>...</td>\n",
       "      <td>...</td>\n",
       "      <td>...</td>\n",
       "      <td>...</td>\n",
       "      <td>...</td>\n",
       "    </tr>\n",
       "    <tr>\n",
       "      <th>24549232</th>\n",
       "      <td>3</td>\n",
       "      <td>0.82</td>\n",
       "      <td>2</td>\n",
       "      <td>6.0</td>\n",
       "      <td>6.433333</td>\n",
       "    </tr>\n",
       "    <tr>\n",
       "      <th>24549233</th>\n",
       "      <td>1</td>\n",
       "      <td>1.83</td>\n",
       "      <td>1</td>\n",
       "      <td>7.0</td>\n",
       "      <td>6.183333</td>\n",
       "    </tr>\n",
       "    <tr>\n",
       "      <th>24549235</th>\n",
       "      <td>1</td>\n",
       "      <td>2.18</td>\n",
       "      <td>1</td>\n",
       "      <td>9.0</td>\n",
       "      <td>8.216667</td>\n",
       "    </tr>\n",
       "    <tr>\n",
       "      <th>24549236</th>\n",
       "      <td>1</td>\n",
       "      <td>2.52</td>\n",
       "      <td>1</td>\n",
       "      <td>9.5</td>\n",
       "      <td>8.133333</td>\n",
       "    </tr>\n",
       "    <tr>\n",
       "      <th>24549237</th>\n",
       "      <td>1</td>\n",
       "      <td>0.59</td>\n",
       "      <td>1</td>\n",
       "      <td>4.5</td>\n",
       "      <td>2.700000</td>\n",
       "    </tr>\n",
       "  </tbody>\n",
       "</table>\n",
       "<p>16174008 rows × 5 columns</p>\n",
       "</div>"
      ],
      "text/plain": [
       "          passenger_count  trip_distance  payment_type  fare_amount  \\\n",
       "2064                    1           0.00             2          7.0   \n",
       "2451                    1           0.00             1         52.0   \n",
       "2456                    2           1.70             1          9.5   \n",
       "2476                    1           0.40             1          4.0   \n",
       "3358                    1           1.20             1          6.0   \n",
       "...                   ...            ...           ...          ...   \n",
       "24549232                3           0.82             2          6.0   \n",
       "24549233                1           1.83             1          7.0   \n",
       "24549235                1           2.18             1          9.0   \n",
       "24549236                1           2.52             1          9.5   \n",
       "24549237                1           0.59             1          4.5   \n",
       "\n",
       "          trip_duration  \n",
       "2064           0.000000  \n",
       "2451           0.200000  \n",
       "2456          13.066667  \n",
       "2476           3.083333  \n",
       "3358           5.350000  \n",
       "...                 ...  \n",
       "24549232       6.433333  \n",
       "24549233       6.183333  \n",
       "24549235       8.216667  \n",
       "24549236       8.133333  \n",
       "24549237       2.700000  \n",
       "\n",
       "[16174008 rows x 5 columns]"
      ]
     },
     "execution_count": 25,
     "metadata": {},
     "output_type": "execute_result"
    }
   ],
   "source": [
    "#checking for duplicate values\n",
    "df[df.duplicated()==True]"
   ]
  },
  {
   "cell_type": "code",
   "execution_count": 26,
   "id": "857c4ae6-2847-4d05-a819-a85d91f77759",
   "metadata": {},
   "outputs": [
    {
     "data": {
      "text/plain": [
       "(7664923, 5)"
      ]
     },
     "execution_count": 26,
     "metadata": {},
     "output_type": "execute_result"
    }
   ],
   "source": [
    "# dropping duplicate values as they won't contribute in analysis\n",
    "df.drop_duplicates(inplace=True)\n",
    "df.shape"
   ]
  },
  {
   "cell_type": "code",
   "execution_count": 27,
   "id": "7cbaeb7e-1cc7-4c7a-81c4-2a67adef6b28",
   "metadata": {},
   "outputs": [
    {
     "data": {
      "text/plain": [
       "passenger_count\n",
       "1    4319571\n",
       "2    1446682\n",
       "3     548840\n",
       "5     505746\n",
       "6     353020\n",
       "4     295544\n",
       "0     195335\n",
       "7         84\n",
       "8         52\n",
       "9         49\n",
       "Name: count, dtype: int64"
      ]
     },
     "execution_count": 27,
     "metadata": {},
     "output_type": "execute_result"
    }
   ],
   "source": [
    "# passenger count distribution\n",
    "df['passenger_count'].value_counts()"
   ]
  },
  {
   "cell_type": "code",
   "execution_count": 28,
   "id": "6fbf76fa-a125-4402-810f-b9b39d5cc6f8",
   "metadata": {},
   "outputs": [
    {
     "data": {
      "text/plain": [
       "passenger_count\n",
       "1    4319571\n",
       "2    1446682\n",
       "3     548840\n",
       "5     505746\n",
       "6     353020\n",
       "4     295544\n",
       "Name: count, dtype: int64"
      ]
     },
     "execution_count": 28,
     "metadata": {},
     "output_type": "execute_result"
    }
   ],
   "source": [
    "# dropping zero passenger count as no passenger means no one paid the fare amount\n",
    "df = df[(df['passenger_count']!=0) & (df['passenger_count']<7)]\n",
    "df['passenger_count'].value_counts()"
   ]
  },
  {
   "cell_type": "code",
   "execution_count": 29,
   "id": "a7228e4b-3fd6-4cd7-9010-5f1b832150a4",
   "metadata": {},
   "outputs": [
    {
     "data": {
      "text/plain": [
       "payment_type\n",
       "1    4864460\n",
       "2    2454556\n",
       "3      85731\n",
       "4      64641\n",
       "5         15\n",
       "Name: count, dtype: int64"
      ]
     },
     "execution_count": 29,
     "metadata": {},
     "output_type": "execute_result"
    }
   ],
   "source": [
    "# payment type distribution\n",
    "df['payment_type'].value_counts()"
   ]
  },
  {
   "cell_type": "code",
   "execution_count": 30,
   "id": "f28ddbfb-0dc1-4f44-9d96-bc56eb9be29f",
   "metadata": {},
   "outputs": [
    {
     "data": {
      "text/plain": [
       "payment_type\n",
       "1    4864460\n",
       "2    2454556\n",
       "Name: count, dtype: int64"
      ]
     },
     "execution_count": 30,
     "metadata": {},
     "output_type": "execute_result"
    }
   ],
   "source": [
    "df = df[df['payment_type']<3]\n",
    "df['payment_type'].value_counts()"
   ]
  },
  {
   "cell_type": "code",
   "execution_count": 31,
   "id": "6adad279-dd92-4367-b471-08b06a60924d",
   "metadata": {},
   "outputs": [],
   "source": [
    "# Changing the encoded values of payment type to actual labels\n",
    "df['payment_type'].replace([1,2],['Card','Cash'],inplace=True)"
   ]
  },
  {
   "cell_type": "code",
   "execution_count": 32,
   "id": "56058224-0bcd-4d7f-a0f3-fdce6538e1a6",
   "metadata": {},
   "outputs": [
    {
     "data": {
      "text/html": [
       "<div>\n",
       "<style scoped>\n",
       "    .dataframe tbody tr th:only-of-type {\n",
       "        vertical-align: middle;\n",
       "    }\n",
       "\n",
       "    .dataframe tbody tr th {\n",
       "        vertical-align: top;\n",
       "    }\n",
       "\n",
       "    .dataframe thead th {\n",
       "        text-align: right;\n",
       "    }\n",
       "</style>\n",
       "<table border=\"1\" class=\"dataframe\">\n",
       "  <thead>\n",
       "    <tr style=\"text-align: right;\">\n",
       "      <th></th>\n",
       "      <th>passenger_count</th>\n",
       "      <th>trip_distance</th>\n",
       "      <th>fare_amount</th>\n",
       "      <th>trip_duration</th>\n",
       "    </tr>\n",
       "  </thead>\n",
       "  <tbody>\n",
       "    <tr>\n",
       "      <th>count</th>\n",
       "      <td>7.319016e+06</td>\n",
       "      <td>7.319016e+06</td>\n",
       "      <td>7.319016e+06</td>\n",
       "      <td>7.319016e+06</td>\n",
       "    </tr>\n",
       "    <tr>\n",
       "      <th>mean</th>\n",
       "      <td>1.978300e+00</td>\n",
       "      <td>5.227476e+00</td>\n",
       "      <td>1.963208e+01</td>\n",
       "      <td>2.839155e+01</td>\n",
       "    </tr>\n",
       "    <tr>\n",
       "      <th>std</th>\n",
       "      <td>1.482294e+00</td>\n",
       "      <td>7.944994e+01</td>\n",
       "      <td>1.584677e+01</td>\n",
       "      <td>2.982134e+02</td>\n",
       "    </tr>\n",
       "    <tr>\n",
       "      <th>min</th>\n",
       "      <td>1.000000e+00</td>\n",
       "      <td>-2.218000e+01</td>\n",
       "      <td>-5.000000e+02</td>\n",
       "      <td>-5.312312e+05</td>\n",
       "    </tr>\n",
       "    <tr>\n",
       "      <th>25%</th>\n",
       "      <td>1.000000e+00</td>\n",
       "      <td>1.800000e+00</td>\n",
       "      <td>1.000000e+01</td>\n",
       "      <td>1.116667e+01</td>\n",
       "    </tr>\n",
       "    <tr>\n",
       "      <th>50%</th>\n",
       "      <td>1.000000e+00</td>\n",
       "      <td>3.390000e+00</td>\n",
       "      <td>1.500000e+01</td>\n",
       "      <td>1.751667e+01</td>\n",
       "    </tr>\n",
       "    <tr>\n",
       "      <th>75%</th>\n",
       "      <td>2.000000e+00</td>\n",
       "      <td>6.600000e+00</td>\n",
       "      <td>2.400000e+01</td>\n",
       "      <td>2.573333e+01</td>\n",
       "    </tr>\n",
       "    <tr>\n",
       "      <th>max</th>\n",
       "      <td>6.000000e+00</td>\n",
       "      <td>1.673295e+05</td>\n",
       "      <td>6.964000e+03</td>\n",
       "      <td>8.525117e+03</td>\n",
       "    </tr>\n",
       "  </tbody>\n",
       "</table>\n",
       "</div>"
      ],
      "text/plain": [
       "       passenger_count  trip_distance   fare_amount  trip_duration\n",
       "count     7.319016e+06   7.319016e+06  7.319016e+06   7.319016e+06\n",
       "mean      1.978300e+00   5.227476e+00  1.963208e+01   2.839155e+01\n",
       "std       1.482294e+00   7.944994e+01  1.584677e+01   2.982134e+02\n",
       "min       1.000000e+00  -2.218000e+01 -5.000000e+02  -5.312312e+05\n",
       "25%       1.000000e+00   1.800000e+00  1.000000e+01   1.116667e+01\n",
       "50%       1.000000e+00   3.390000e+00  1.500000e+01   1.751667e+01\n",
       "75%       2.000000e+00   6.600000e+00  2.400000e+01   2.573333e+01\n",
       "max       6.000000e+00   1.673295e+05  6.964000e+03   8.525117e+03"
      ]
     },
     "execution_count": 32,
     "metadata": {},
     "output_type": "execute_result"
    }
   ],
   "source": [
    "df.describe()"
   ]
  },
  {
   "cell_type": "code",
   "execution_count": null,
   "id": "84cb0216-97d2-4d71-aa32-cb637dfd13d7",
   "metadata": {},
   "outputs": [],
   "source": []
  },
  {
   "cell_type": "markdown",
   "id": "2d123c13-b3eb-4717-ac1a-8a511fd7d040",
   "metadata": {},
   "source": [
    "Trip distance, fare amount, trip duration cannot be negative. Need to remove the wrong values. Also there are lot of outliers present in these values as there is a huge gap between 75 percentile and max value.¶\r",
    "s"
   ]
  },
  {
   "cell_type": "code",
   "execution_count": 33,
   "id": "1cb102fc-bad2-49a6-9d9d-e8b2d9044beb",
   "metadata": {},
   "outputs": [
    {
     "data": {
      "text/plain": [
       "(7209548, 5)"
      ]
     },
     "execution_count": 33,
     "metadata": {},
     "output_type": "execute_result"
    }
   ],
   "source": [
    "# removing negative values\n",
    "df = df[df['trip_distance']>0]\n",
    "df = df[df['fare_amount']>0]\n",
    "df = df[df['trip_duration']>0]\n",
    "df.shape"
   ]
  },
  {
   "cell_type": "code",
   "execution_count": 34,
   "id": "f37ad423-34ff-45ce-a4dc-38a687111c08",
   "metadata": {},
   "outputs": [
    {
     "data": {
      "image/png": "[encoded data removed]",
      "text/plain": [
       "<Figure size 800x1200 with 3 Axes>"
      ]
     },
     "metadata": {},
     "output_type": "display_data"
    }
   ],
   "source": [
    "# checking outliers\n",
    "plt.figure(figsize = (8,12))\n",
    "plt.subplot(3,1,1)\n",
    "sns.boxplot(df['trip_distance'])\n",
    "plt.subplot(3,1,2)\n",
    "sns.boxplot(df['fare_amount'])\n",
    "plt.subplot(3,1,3)\n",
    "sns.boxplot(df['trip_duration'])\n",
    "plt.show()"
   ]
  },
  {
   "cell_type": "code",
   "execution_count": 35,
   "id": "49b71ff1-fb84-46cc-82d2-9e65ad3cedf2",
   "metadata": {},
   "outputs": [],
   "source": [
    "# removing outliers using IQR method\n",
    "\n",
    "   \n",
    "\n",
    "for col in ['trip_distance','fare_amount','trip_duration']:\n",
    "    q1 = df[col].quantile(0.25)\n",
    "    q2 = df[col].quantile(0.75)\n",
    "    IQR = q2-q1\n",
    "    lower_bound = q1-1.5*IQR\n",
    "    upper_bound = q2+1.5*IQR\n",
    "    df = df[(df[col]>=lower_bound) & (df[col]<=upper_bound)]\n",
    " \n",
    "    \n"
   ]
  },
  {
   "cell_type": "code",
   "execution_count": 36,
   "id": "d6f4b017-c592-4837-a35a-b41fff2f4d3a",
   "metadata": {},
   "outputs": [
    {
     "data": {
      "text/html": [
       "<div>\n",
       "<style scoped>\n",
       "    .dataframe tbody tr th:only-of-type {\n",
       "        vertical-align: middle;\n",
       "    }\n",
       "\n",
       "    .dataframe tbody tr th {\n",
       "        vertical-align: top;\n",
       "    }\n",
       "\n",
       "    .dataframe thead th {\n",
       "        text-align: right;\n",
       "    }\n",
       "</style>\n",
       "<table border=\"1\" class=\"dataframe\">\n",
       "  <thead>\n",
       "    <tr style=\"text-align: right;\">\n",
       "      <th></th>\n",
       "      <th>passenger_count</th>\n",
       "      <th>trip_distance</th>\n",
       "      <th>fare_amount</th>\n",
       "      <th>trip_duration</th>\n",
       "    </tr>\n",
       "  </thead>\n",
       "  <tbody>\n",
       "    <tr>\n",
       "      <th>count</th>\n",
       "      <td>6.305863e+06</td>\n",
       "      <td>6.305863e+06</td>\n",
       "      <td>6.305863e+06</td>\n",
       "      <td>6.305863e+06</td>\n",
       "    </tr>\n",
       "    <tr>\n",
       "      <th>mean</th>\n",
       "      <td>2.047626e+00</td>\n",
       "      <td>3.831850e+00</td>\n",
       "      <td>1.531707e+01</td>\n",
       "      <td>1.689621e+01</td>\n",
       "    </tr>\n",
       "    <tr>\n",
       "      <th>std</th>\n",
       "      <td>1.520414e+00</td>\n",
       "      <td>2.795227e+00</td>\n",
       "      <td>7.648838e+00</td>\n",
       "      <td>8.401080e+00</td>\n",
       "    </tr>\n",
       "    <tr>\n",
       "      <th>min</th>\n",
       "      <td>1.000000e+00</td>\n",
       "      <td>1.000000e-02</td>\n",
       "      <td>1.000000e-02</td>\n",
       "      <td>1.666667e-02</td>\n",
       "    </tr>\n",
       "    <tr>\n",
       "      <th>25%</th>\n",
       "      <td>1.000000e+00</td>\n",
       "      <td>1.720000e+00</td>\n",
       "      <td>9.500000e+00</td>\n",
       "      <td>1.050000e+01</td>\n",
       "    </tr>\n",
       "    <tr>\n",
       "      <th>50%</th>\n",
       "      <td>1.000000e+00</td>\n",
       "      <td>3.040000e+00</td>\n",
       "      <td>1.400000e+01</td>\n",
       "      <td>1.605000e+01</td>\n",
       "    </tr>\n",
       "    <tr>\n",
       "      <th>75%</th>\n",
       "      <td>2.000000e+00</td>\n",
       "      <td>5.200000e+00</td>\n",
       "      <td>2.000000e+01</td>\n",
       "      <td>2.238333e+01</td>\n",
       "    </tr>\n",
       "    <tr>\n",
       "      <th>max</th>\n",
       "      <td>6.000000e+00</td>\n",
       "      <td>1.396000e+01</td>\n",
       "      <td>3.823000e+01</td>\n",
       "      <td>4.133333e+01</td>\n",
       "    </tr>\n",
       "  </tbody>\n",
       "</table>\n",
       "</div>"
      ],
      "text/plain": [
       "       passenger_count  trip_distance   fare_amount  trip_duration\n",
       "count     6.305863e+06   6.305863e+06  6.305863e+06   6.305863e+06\n",
       "mean      2.047626e+00   3.831850e+00  1.531707e+01   1.689621e+01\n",
       "std       1.520414e+00   2.795227e+00  7.648838e+00   8.401080e+00\n",
       "min       1.000000e+00   1.000000e-02  1.000000e-02   1.666667e-02\n",
       "25%       1.000000e+00   1.720000e+00  9.500000e+00   1.050000e+01\n",
       "50%       1.000000e+00   3.040000e+00  1.400000e+01   1.605000e+01\n",
       "75%       2.000000e+00   5.200000e+00  2.000000e+01   2.238333e+01\n",
       "max       6.000000e+00   1.396000e+01  3.823000e+01   4.133333e+01"
      ]
     },
     "execution_count": 36,
     "metadata": {},
     "output_type": "execute_result"
    }
   ],
   "source": [
    "df.describe()"
   ]
  },
  {
   "cell_type": "code",
   "execution_count": null,
   "id": "4defeaaf-feec-4959-b1ad-33921da059d2",
   "metadata": {},
   "outputs": [],
   "source": []
  },
  {
   "cell_type": "markdown",
   "id": "440cc3cd-763d-44b5-abc1-5fd1bbfa17d4",
   "metadata": {},
   "source": [
    "- The objective is to explore relationship between payment type and the concerning trip distance and fare amount.¶\r\n",
    "Are there variations in the payment type concerning different fare amounts or trip distance?¶"
   ]
  },
  {
   "cell_type": "code",
   "execution_count": 37,
   "id": "7dfcac4f-ad04-42d2-9a23-574547aa1ed9",
   "metadata": {},
   "outputs": [
    {
     "data": {
      "image/png": "[encoded data removed]",
      "text/plain": [
       "<Figure size 640x480 with 1 Axes>"
      ]
     },
     "metadata": {},
     "output_type": "display_data"
    }
   ],
   "source": [
    "plt.title('Payment type distribution')\n",
    "plt.pie(df['payment_type'].value_counts(normalize=True),labels=df['payment_type'].value_counts(normalize=True).index,\n",
    "       autopct='%1.1f%%')\n",
    "plt.show()"
   ]
  },
  {
   "cell_type": "markdown",
   "id": "4dbc3832-7a62-44b7-a70c-fbdae1f2f715",
   "metadata": {},
   "source": [
    "## Card payment is more, clocking at 65.4%¶"
   ]
  },
  {
   "cell_type": "code",
   "execution_count": null,
   "id": "931169d2-3215-4370-b540-2b05de2bf553",
   "metadata": {},
   "outputs": [],
   "source": []
  },
  {
   "cell_type": "code",
   "execution_count": 38,
   "id": "e58991c7-599c-4049-80e2-10355dd3d128",
   "metadata": {},
   "outputs": [
    {
     "data": {
      "image/png": "[encoded data removed]",
      "text/plain": [
       "<Figure size 1200x700 with 2 Axes>"
      ]
     },
     "metadata": {},
     "output_type": "display_data"
    }
   ],
   "source": [
    "plt.figure(figsize=(12,7))\n",
    "plt.subplot(1,2,1)\n",
    "plt.title('Distribution of trip distance')\n",
    "sns.histplot(df[df['payment_type']=='Card']['trip_distance'],bins = 15,kde=True,label='Card')\n",
    "sns.histplot(df[df['payment_type']=='Cash']['trip_distance'],bins = 15,kde=True,label='Cash')\n",
    "plt.legend()\n",
    "plt.subplot(1,2,2)\n",
    "plt.title('Distribution of fare amount')\n",
    "sns.histplot(df[df['payment_type']=='Card']['fare_amount'],bins = 15,kde=True,label='Card')\n",
    "sns.histplot(df[df['payment_type']=='Cash']['fare_amount'],bins = 15,kde=True,label='Cash')\n",
    "plt.legend()\n",
    "plt.show()"
   ]
  },
  {
   "cell_type": "code",
   "execution_count": 39,
   "id": "43723f66-4d17-4615-805c-4b8197f84b77",
   "metadata": {},
   "outputs": [
    {
     "data": {
      "text/html": [
       "<div>\n",
       "<style scoped>\n",
       "    .dataframe tbody tr th:only-of-type {\n",
       "        vertical-align: middle;\n",
       "    }\n",
       "\n",
       "    .dataframe tbody tr th {\n",
       "        vertical-align: top;\n",
       "    }\n",
       "\n",
       "    .dataframe thead tr th {\n",
       "        text-align: left;\n",
       "    }\n",
       "\n",
       "    .dataframe thead tr:last-of-type th {\n",
       "        text-align: right;\n",
       "    }\n",
       "</style>\n",
       "<table border=\"1\" class=\"dataframe\">\n",
       "  <thead>\n",
       "    <tr>\n",
       "      <th></th>\n",
       "      <th colspan=\"2\" halign=\"left\">trip_distance</th>\n",
       "      <th colspan=\"2\" halign=\"left\">fare_amount</th>\n",
       "    </tr>\n",
       "    <tr>\n",
       "      <th></th>\n",
       "      <th>mean</th>\n",
       "      <th>std</th>\n",
       "      <th>mean</th>\n",
       "      <th>std</th>\n",
       "    </tr>\n",
       "    <tr>\n",
       "      <th>payment_type</th>\n",
       "      <th></th>\n",
       "      <th></th>\n",
       "      <th></th>\n",
       "      <th></th>\n",
       "    </tr>\n",
       "  </thead>\n",
       "  <tbody>\n",
       "    <tr>\n",
       "      <th>Card</th>\n",
       "      <td>3.978898</td>\n",
       "      <td>2.792324</td>\n",
       "      <td>15.834915</td>\n",
       "      <td>7.639275</td>\n",
       "    </tr>\n",
       "    <tr>\n",
       "      <th>Cash</th>\n",
       "      <td>3.554207</td>\n",
       "      <td>2.779571</td>\n",
       "      <td>14.339326</td>\n",
       "      <td>7.570896</td>\n",
       "    </tr>\n",
       "  </tbody>\n",
       "</table>\n",
       "</div>"
      ],
      "text/plain": [
       "             trip_distance           fare_amount          \n",
       "                      mean       std        mean       std\n",
       "payment_type                                              \n",
       "Card              3.978898  2.792324   15.834915  7.639275\n",
       "Cash              3.554207  2.779571   14.339326  7.570896"
      ]
     },
     "execution_count": 39,
     "metadata": {},
     "output_type": "execute_result"
    }
   ],
   "source": [
    "df.groupby(['payment_type']).agg({'trip_distance':['mean','std'],'fare_amount':['mean','std']})"
   ]
  },
  {
   "cell_type": "markdown",
   "id": "c9180118-e04f-4972-bf49-b5742f918cd7",
   "metadata": {},
   "source": [
    "- The mean for card is more than cash in both trip distance and fare amount. This indicates that passengers are more inclined to pay with card.¶\n",
    "- On any trip distance card is the preffered mode, however when the fare amount is on lower scale there is less difference between the preferences.\n",
    "- But as distance and fare amount increase, the preference to pay with card increases.\n",
    "- Subsequently, the objective now is to analysis the payment types in relation to the passenger count.\n",
    "- Our objective is to check whether there are any changes in payment preference related to the number of passengers travelling in the cab.¶"
   ]
  },
  {
   "cell_type": "code",
   "execution_count": 46,
   "id": "a0332d3a-344c-47dd-8bd5-54d9b272d72a",
   "metadata": {},
   "outputs": [
    {
     "data": {
      "text/html": [
       "<div>\n",
       "<style scoped>\n",
       "    .dataframe tbody tr th:only-of-type {\n",
       "        vertical-align: middle;\n",
       "    }\n",
       "\n",
       "    .dataframe tbody tr th {\n",
       "        vertical-align: top;\n",
       "    }\n",
       "\n",
       "    .dataframe thead th {\n",
       "        text-align: right;\n",
       "    }\n",
       "</style>\n",
       "<table border=\"1\" class=\"dataframe\">\n",
       "  <thead>\n",
       "    <tr style=\"text-align: right;\">\n",
       "      <th></th>\n",
       "      <th>payment_type</th>\n",
       "      <th>passenger_count</th>\n",
       "      <th>count</th>\n",
       "      <th>percentage</th>\n",
       "    </tr>\n",
       "  </thead>\n",
       "  <tbody>\n",
       "    <tr>\n",
       "      <th>0</th>\n",
       "      <td>Card</td>\n",
       "      <td>1</td>\n",
       "      <td>2223557</td>\n",
       "      <td>35.261740</td>\n",
       "    </tr>\n",
       "    <tr>\n",
       "      <th>1</th>\n",
       "      <td>Card</td>\n",
       "      <td>2</td>\n",
       "      <td>821816</td>\n",
       "      <td>13.032570</td>\n",
       "    </tr>\n",
       "    <tr>\n",
       "      <th>2</th>\n",
       "      <td>Card</td>\n",
       "      <td>3</td>\n",
       "      <td>337592</td>\n",
       "      <td>5.353621</td>\n",
       "    </tr>\n",
       "    <tr>\n",
       "      <th>3</th>\n",
       "      <td>Card</td>\n",
       "      <td>4</td>\n",
       "      <td>180708</td>\n",
       "      <td>2.865714</td>\n",
       "    </tr>\n",
       "    <tr>\n",
       "      <th>4</th>\n",
       "      <td>Card</td>\n",
       "      <td>5</td>\n",
       "      <td>327810</td>\n",
       "      <td>5.198495</td>\n",
       "    </tr>\n",
       "    <tr>\n",
       "      <th>5</th>\n",
       "      <td>Card</td>\n",
       "      <td>6</td>\n",
       "      <td>230996</td>\n",
       "      <td>3.663194</td>\n",
       "    </tr>\n",
       "    <tr>\n",
       "      <th>6</th>\n",
       "      <td>Cash</td>\n",
       "      <td>1</td>\n",
       "      <td>1255346</td>\n",
       "      <td>19.907600</td>\n",
       "    </tr>\n",
       "    <tr>\n",
       "      <th>7</th>\n",
       "      <td>Cash</td>\n",
       "      <td>2</td>\n",
       "      <td>430581</td>\n",
       "      <td>6.828264</td>\n",
       "    </tr>\n",
       "    <tr>\n",
       "      <th>8</th>\n",
       "      <td>Cash</td>\n",
       "      <td>3</td>\n",
       "      <td>163974</td>\n",
       "      <td>2.600342</td>\n",
       "    </tr>\n",
       "    <tr>\n",
       "      <th>9</th>\n",
       "      <td>Cash</td>\n",
       "      <td>4</td>\n",
       "      <td>90881</td>\n",
       "      <td>1.441214</td>\n",
       "    </tr>\n",
       "    <tr>\n",
       "      <th>10</th>\n",
       "      <td>Cash</td>\n",
       "      <td>5</td>\n",
       "      <td>143340</td>\n",
       "      <td>2.273123</td>\n",
       "    </tr>\n",
       "    <tr>\n",
       "      <th>11</th>\n",
       "      <td>Cash</td>\n",
       "      <td>6</td>\n",
       "      <td>99262</td>\n",
       "      <td>1.574122</td>\n",
       "    </tr>\n",
       "  </tbody>\n",
       "</table>\n",
       "</div>"
      ],
      "text/plain": [
       "   payment_type  passenger_count    count  percentage\n",
       "0          Card                1  2223557   35.261740\n",
       "1          Card                2   821816   13.032570\n",
       "2          Card                3   337592    5.353621\n",
       "3          Card                4   180708    2.865714\n",
       "4          Card                5   327810    5.198495\n",
       "5          Card                6   230996    3.663194\n",
       "6          Cash                1  1255346   19.907600\n",
       "7          Cash                2   430581    6.828264\n",
       "8          Cash                3   163974    2.600342\n",
       "9          Cash                4    90881    1.441214\n",
       "10         Cash                5   143340    2.273123\n",
       "11         Cash                6    99262    1.574122"
      ]
     },
     "execution_count": 46,
     "metadata": {},
     "output_type": "execute_result"
    }
   ],
   "source": [
    "# checking the payment type distribution in percentage based on passenger count\n",
    "payment=df.groupby(['payment_type','passenger_count'])[['passenger_count']].count()\n",
    "payment.rename(columns = {'passenger_count':'count'},inplace = True)\n",
    "payment.reset_index(inplace=True)\n",
    "payment['percentage'] = (payment['count']/payment['count'].sum())*100\n",
    "payment"
   ]
  },
  {
   "cell_type": "code",
   "execution_count": 41,
   "id": "ff250436-c46b-442d-b44f-e5f07fc57e42",
   "metadata": {},
   "outputs": [
    {
     "data": {
      "text/html": [
       "<div>\n",
       "<style scoped>\n",
       "    .dataframe tbody tr th:only-of-type {\n",
       "        vertical-align: middle;\n",
       "    }\n",
       "\n",
       "    .dataframe tbody tr th {\n",
       "        vertical-align: top;\n",
       "    }\n",
       "\n",
       "    .dataframe thead th {\n",
       "        text-align: right;\n",
       "    }\n",
       "</style>\n",
       "<table border=\"1\" class=\"dataframe\">\n",
       "  <thead>\n",
       "    <tr style=\"text-align: right;\">\n",
       "      <th></th>\n",
       "      <th>payment_type</th>\n",
       "      <th>1</th>\n",
       "      <th>2</th>\n",
       "      <th>3</th>\n",
       "      <th>4</th>\n",
       "      <th>5</th>\n",
       "      <th>6</th>\n",
       "    </tr>\n",
       "  </thead>\n",
       "  <tbody>\n",
       "    <tr>\n",
       "      <th>0</th>\n",
       "      <td>Card</td>\n",
       "      <td>35.26174</td>\n",
       "      <td>13.03257</td>\n",
       "      <td>5.353621</td>\n",
       "      <td>2.865714</td>\n",
       "      <td>5.198495</td>\n",
       "      <td>3.663194</td>\n",
       "    </tr>\n",
       "    <tr>\n",
       "      <th>1</th>\n",
       "      <td>Cash</td>\n",
       "      <td>19.9076</td>\n",
       "      <td>6.828264</td>\n",
       "      <td>2.600342</td>\n",
       "      <td>1.441214</td>\n",
       "      <td>2.273123</td>\n",
       "      <td>1.574122</td>\n",
       "    </tr>\n",
       "  </tbody>\n",
       "</table>\n",
       "</div>"
      ],
      "text/plain": [
       "  payment_type         1         2         3         4         5         6\n",
       "0         Card  35.26174  13.03257  5.353621  2.865714  5.198495  3.663194\n",
       "1         Cash   19.9076  6.828264  2.600342  1.441214  2.273123  1.574122"
      ]
     },
     "execution_count": 41,
     "metadata": {},
     "output_type": "execute_result"
    }
   ],
   "source": [
    "# rearranging the data for horizontal stacked bar chart\n",
    "payment_dist = pd.DataFrame(columns=['payment_type',1,2,3,4,5,6])\n",
    "payment_dist['payment_type']=['Card','Cash']\n",
    "payment_dist.iloc[0,1:]=payment.iloc[:6,3]\n",
    "payment_dist.iloc[1,1:]=payment.iloc[6:,3]\n",
    "payment_dist"
   ]
  },
  {
   "cell_type": "code",
   "execution_count": 42,
   "id": "95fff854-cc0a-44f3-891b-a0b299bc86fe",
   "metadata": {},
   "outputs": [
    {
     "data": {
      "image/png": "[encoded data removed]",
      "text/plain": [
       "<Figure size 1500x700 with 1 Axes>"
      ]
     },
     "metadata": {},
     "output_type": "display_data"
    }
   ],
   "source": [
    "# plotting the horizontal bar chart\n",
    "fig,ax = plt.subplots(figsize=(15,7))\n",
    "payment_dist.plot(x='payment_type',kind='barh',stacked=True,ax=ax)\n",
    "\n",
    "for i in ax.patches:\n",
    "    w = i.get_width()\n",
    "    h = i.get_height()\n",
    "    x,y = i.get_xy()\n",
    "    ax.text(x+w/2,y+h/2,'{:.0f}%'.format(w),ha='center',va='center')\n",
    "    \n",
    "totals = payment_dist.iloc[:,1:].sum(axis=1)\n",
    "for i, total in enumerate(totals):\n",
    "    y=i\n",
    "    ax.text(total+1.5, y,'{:.0f}%'.format(total), ha='center', va = 'center', fontsize = 12)"
   ]
  },
  {
   "cell_type": "markdown",
   "id": "60c1a39b-dbc5-4901-8966-82969d4d897e",
   "metadata": {},
   "source": [
    "- Passenger count of 1 constitutes maximum of the payments in both cash and card payment followed by passenger count of 2.\r",
    "- \n",
    "The plot also says that card payment is preffered in any number of passenger counts.\n",
    "on."
   ]
  },
  {
   "cell_type": "code",
   "execution_count": null,
   "id": "4b3a53fa-a042-4813-b4a8-558b2342673a",
   "metadata": {},
   "outputs": [],
   "source": []
  },
  {
   "cell_type": "code",
   "execution_count": 47,
   "id": "5b92a01a-1469-4728-beab-d2ab84f6ae56",
   "metadata": {},
   "outputs": [],
   "source": [
    "import statsmodels.api as sm"
   ]
  },
  {
   "cell_type": "code",
   "execution_count": 48,
   "id": "6ef0d010-94fa-42e0-85d6-a29c8d4f8aec",
   "metadata": {},
   "outputs": [
    {
     "data": {
      "image/png": "[encoded data removed]",
      "text/plain": [
       "<Figure size 640x480 with 1 Axes>"
      ]
     },
     "metadata": {},
     "output_type": "display_data"
    }
   ],
   "source": [
    "sm.qqplot(df['fare_amount'], line = '45')\n",
    "plt.show()"
   ]
  },
  {
   "cell_type": "markdown",
   "id": "fe0b5d6a-748e-4d1e-a64b-d839f2b56d3c",
   "metadata": {},
   "source": [
    "- The data plots do not align (not even closely) to the diagonal line, suggesting it doesn't follow a normal distribution.\r",
    "- \n",
    "So instead of z-test we will use a t-test for our hypothesis testing. Moreover the population variance is also not known suggesting that a t-test will be a better estimate as it can accomodate the uncertainities that come with estimating population parameters from sample data.h.¶"
   ]
  },
  {
   "cell_type": "markdown",
   "id": "7287bd30-af5a-4704-9d8b-d94d4ca1ed61",
   "metadata": {},
   "source": [
    "### Null hypothesis: \n",
    "- There is no difference in average fare between customers who use credit card and customers who use cash.\n",
    "### Alternate hypothesis: \n",
    "- There is a difference in average fare between customers who use credit and customers who use cash.¶"
   ]
  },
  {
   "cell_type": "code",
   "execution_count": 49,
   "id": "fbd279b3-bc75-4bbd-bb8c-e7bac6829463",
   "metadata": {},
   "outputs": [],
   "source": [
    "# sample 1\n",
    "card_sample = df[df['payment_type']==\"Card\"]['fare_amount']\n",
    "# sample 2\n",
    "cash_sample = df[df['payment_type']==\"Cash\"]['fare_amount']"
   ]
  },
  {
   "cell_type": "markdown",
   "id": "d6666710-53e0-4b27-b8ec-fd7d71c28cbb",
   "metadata": {},
   "source": [
    "- Performing an F-test to check the relation between variances of the sample"
   ]
  },
  {
   "cell_type": "code",
   "execution_count": 50,
   "id": "0b051636-acd6-4f90-ba49-c5b1c1daaa2b",
   "metadata": {},
   "outputs": [
    {
     "name": "stdout",
     "output_type": "stream",
     "text": [
      "T statistic 235.27559801716524 p-value 0.0\n"
     ]
    }
   ],
   "source": [
    "t_stats, p_value = st.ttest_ind(a=card_sample,b=cash_sample,equal_var=False) # variances are not equal\n",
    "print('T statistic', t_stats, 'p-value',p_value)"
   ]
  },
  {
   "cell_type": "code",
   "execution_count": 51,
   "id": "fbc6ec33-271e-4789-bb8d-0f916adafae2",
   "metadata": {},
   "outputs": [
    {
     "name": "stdout",
     "output_type": "stream",
     "text": [
      "p_value = 0.0, Reject null hypothesis\n"
     ]
    }
   ],
   "source": [
    "# two sample t-test\n",
    "t_stats, p_value = st.ttest_ind(a=card_sample,b=cash_sample,equal_var=False) # variances are not equal\n",
    "if p_value < 0.05:\n",
    "    print(f'p_value = {p_value}, Reject null hypothesis')\n",
    "else:\n",
    "    print(f'p_value = {p_value},Accept null hypothesis')"
   ]
  },
  {
   "cell_type": "markdown",
   "id": "ec752d03-d8bb-43b9-a3ae-6ce632c03a9f",
   "metadata": {},
   "source": [
    "- Since the p-values is less than the significance level of 5%, the null hypothesis is rejected.¶\n",
    "- There is a statistically significant difference in average fare amount between passengers who pay with cash and passengers who use card.\n",
    "- The bussiness can generate more revenue by encouraging customers to pay with card and should market offers or advertisements accordingly¶"
   ]
  },
  {
   "cell_type": "code",
   "execution_count": null,
   "id": "0f8edd5a-5547-4a4c-9d30-90fe3581449a",
   "metadata": {},
   "outputs": [],
   "source": []
  }
 ],
 "metadata": {
  "kernelspec": {
   "display_name": "Python 3 (ipykernel)",
   "language": "python",
   "name": "python3"
  },
  "language_info": {
   "codemirror_mode": {
    "name": "ipython",
    "version": 3
   },
   "file_extension": ".py",
   "mimetype": "text/x-python",
   "name": "python",
   "nbconvert_exporter": "python",
   "pygments_lexer": "ipython3",
   "version": "3.11.7"
  }
 },
 "nbformat": 4,
 "nbformat_minor": 5
}
